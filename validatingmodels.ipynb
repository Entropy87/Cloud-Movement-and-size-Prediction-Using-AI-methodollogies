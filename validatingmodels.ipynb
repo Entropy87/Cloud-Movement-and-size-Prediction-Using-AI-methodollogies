{
 "cells": [
  {
   "cell_type": "markdown",
   "metadata": {},
   "source": [
    "### Validation of Model\n",
    "\n",
    "#### (Take note that the data.yaml needs to be configured for the  'valid' and 'train' valid testing)"
   ]
  },
  {
   "cell_type": "code",
   "execution_count": 1,
   "metadata": {},
   "outputs": [
    {
     "name": "stdout",
     "output_type": "stream",
     "text": [
      "Ultralytics YOLOv8.2.100  Python-3.11.3 torch-2.3.1+cpu CPU (AMD Ryzen 5 5500U with Radeon Graphics)\n",
      "YOLOv9e-seg summary (fused): 732 layers, 55,508,627 parameters, 0 gradients, 224.8 GFLOPs\n"
     ]
    },
    {
     "name": "stderr",
     "output_type": "stream",
     "text": [
      "\u001b[34m\u001b[1mval: \u001b[0mScanning C:\\Users\\thami\\Documents\\Year 4\\Investigation\\final-deliverables\\Dataset\\valid\\labels.cache... 62 images, 0 backgrounds, 0 corrupt: 100%|██████████| 62/62 [00:00<?, ?it/s]\n",
      "                 Class     Images  Instances      Box(P          R      mAP50  mAP50-95)     Mask(P          R      mAP50  mAP50-95): 100%|██████████| 4/4 [01:33<00:00, 23.32s/it]\n"
     ]
    },
    {
     "name": "stdout",
     "output_type": "stream",
     "text": [
      "                   all         62       2165      0.765       0.74      0.824      0.592      0.768      0.739      0.818      0.475\n",
      "Speed: 1.8ms preprocess, 1342.3ms inference, 0.2ms loss, 12.7ms postprocess per image\n",
      "Results saved to \u001b[1mruns\\segment\\val\u001b[0m\n"
     ]
    }
   ],
   "source": [
    "import os\n",
    "import cv2\n",
    "import numpy as np\n",
    "from ultralytics import YOLO\n",
    "\n",
    "model = YOLO('best_osmu-e.pt')\n",
    "results = model.val(data='data.yaml')"
   ]
  },
  {
   "cell_type": "markdown",
   "metadata": {},
   "source": [
    "### Ostu on Unseen Test data"
   ]
  },
  {
   "cell_type": "code",
   "execution_count": 2,
   "metadata": {},
   "outputs": [
    {
     "name": "stdout",
     "output_type": "stream",
     "text": [
      "Ultralytics YOLOv8.2.100  Python-3.11.3 torch-2.3.1+cpu CPU (AMD Ryzen 5 5500U with Radeon Graphics)\n",
      "YOLOv9e-seg summary (fused): 732 layers, 55,508,627 parameters, 0 gradients, 224.8 GFLOPs\n"
     ]
    },
    {
     "name": "stderr",
     "output_type": "stream",
     "text": [
      "\u001b[34m\u001b[1mval: \u001b[0mScanning C:\\Users\\thami\\Documents\\Year 4\\Investigation\\final-deliverables\\Dataset\\test\\labels.cache... 61 images, 0 backgrounds, 0 corrupt: 100%|██████████| 61/61 [00:00<?, ?it/s]\n",
      "                 Class     Images  Instances      Box(P          R      mAP50  mAP50-95)     Mask(P          R      mAP50  mAP50-95): 100%|██████████| 4/4 [01:26<00:00, 21.69s/it]\n"
     ]
    },
    {
     "name": "stdout",
     "output_type": "stream",
     "text": [
      "                   all         61       2321      0.767      0.714      0.811      0.577      0.762      0.715      0.799      0.458\n",
      "Speed: 1.4ms preprocess, 1258.3ms inference, 0.1ms loss, 13.3ms postprocess per image\n",
      "Results saved to \u001b[1mruns\\segment\\val2\u001b[0m\n"
     ]
    }
   ],
   "source": [
    "import os\n",
    "import cv2\n",
    "import numpy as np\n",
    "from ultralytics import YOLO\n",
    "\n",
    "model = YOLO('best_osmu-e.pt')\n",
    "results = model.val(data='data.yaml') "
   ]
  }
 ],
 "metadata": {
  "kernelspec": {
   "display_name": "Python 3",
   "language": "python",
   "name": "python3"
  },
  "language_info": {
   "codemirror_mode": {
    "name": "ipython",
    "version": 3
   },
   "file_extension": ".py",
   "mimetype": "text/x-python",
   "name": "python",
   "nbconvert_exporter": "python",
   "pygments_lexer": "ipython3",
   "version": "3.11.3"
  }
 },
 "nbformat": 4,
 "nbformat_minor": 2
}
